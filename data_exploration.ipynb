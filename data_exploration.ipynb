{
 "cells": [
  {
   "cell_type": "code",
   "execution_count": 1,
   "metadata": {},
   "outputs": [],
   "source": [
    "import pandas as pd\n",
    "from matplotlib import pyplot as plt\n",
    "import numpy as np\n",
    "%matplotlib inline\n",
    " "
   ]
  },
  {
   "cell_type": "code",
   "execution_count": 2,
   "metadata": {},
   "outputs": [
    {
     "data": {
      "text/html": [
       "<div>\n",
       "<style scoped>\n",
       "    .dataframe tbody tr th:only-of-type {\n",
       "        vertical-align: middle;\n",
       "    }\n",
       "\n",
       "    .dataframe tbody tr th {\n",
       "        vertical-align: top;\n",
       "    }\n",
       "\n",
       "    .dataframe thead th {\n",
       "        text-align: right;\n",
       "    }\n",
       "</style>\n",
       "<table border=\"1\" class=\"dataframe\">\n",
       "  <thead>\n",
       "    <tr style=\"text-align: right;\">\n",
       "      <th></th>\n",
       "      <th>customerID</th>\n",
       "      <th>gender</th>\n",
       "      <th>SeniorCitizen</th>\n",
       "      <th>Partner</th>\n",
       "      <th>Dependents</th>\n",
       "      <th>tenure</th>\n",
       "      <th>PhoneService</th>\n",
       "      <th>MultipleLines</th>\n",
       "      <th>InternetService</th>\n",
       "      <th>OnlineSecurity</th>\n",
       "      <th>...</th>\n",
       "      <th>DeviceProtection</th>\n",
       "      <th>TechSupport</th>\n",
       "      <th>StreamingTV</th>\n",
       "      <th>StreamingMovies</th>\n",
       "      <th>Contract</th>\n",
       "      <th>PaperlessBilling</th>\n",
       "      <th>PaymentMethod</th>\n",
       "      <th>MonthlyCharges</th>\n",
       "      <th>TotalCharges</th>\n",
       "      <th>Churn</th>\n",
       "    </tr>\n",
       "  </thead>\n",
       "  <tbody>\n",
       "    <tr>\n",
       "      <th>6671</th>\n",
       "      <td>5090-EMGTC</td>\n",
       "      <td>Female</td>\n",
       "      <td>0</td>\n",
       "      <td>Yes</td>\n",
       "      <td>No</td>\n",
       "      <td>59</td>\n",
       "      <td>Yes</td>\n",
       "      <td>No</td>\n",
       "      <td>Fiber optic</td>\n",
       "      <td>No</td>\n",
       "      <td>...</td>\n",
       "      <td>No</td>\n",
       "      <td>Yes</td>\n",
       "      <td>Yes</td>\n",
       "      <td>Yes</td>\n",
       "      <td>Two year</td>\n",
       "      <td>Yes</td>\n",
       "      <td>Mailed check</td>\n",
       "      <td>100.05</td>\n",
       "      <td>6034.85</td>\n",
       "      <td>No</td>\n",
       "    </tr>\n",
       "    <tr>\n",
       "      <th>4664</th>\n",
       "      <td>7571-YXDAD</td>\n",
       "      <td>Female</td>\n",
       "      <td>0</td>\n",
       "      <td>No</td>\n",
       "      <td>No</td>\n",
       "      <td>2</td>\n",
       "      <td>Yes</td>\n",
       "      <td>Yes</td>\n",
       "      <td>Fiber optic</td>\n",
       "      <td>No</td>\n",
       "      <td>...</td>\n",
       "      <td>No</td>\n",
       "      <td>No</td>\n",
       "      <td>No</td>\n",
       "      <td>No</td>\n",
       "      <td>Month-to-month</td>\n",
       "      <td>No</td>\n",
       "      <td>Credit card (automatic)</td>\n",
       "      <td>74.90</td>\n",
       "      <td>147.15</td>\n",
       "      <td>Yes</td>\n",
       "    </tr>\n",
       "    <tr>\n",
       "      <th>4662</th>\n",
       "      <td>4018-KJYUY</td>\n",
       "      <td>Male</td>\n",
       "      <td>0</td>\n",
       "      <td>No</td>\n",
       "      <td>Yes</td>\n",
       "      <td>22</td>\n",
       "      <td>Yes</td>\n",
       "      <td>No</td>\n",
       "      <td>No</td>\n",
       "      <td>No internet service</td>\n",
       "      <td>...</td>\n",
       "      <td>No internet service</td>\n",
       "      <td>No internet service</td>\n",
       "      <td>No internet service</td>\n",
       "      <td>No internet service</td>\n",
       "      <td>Month-to-month</td>\n",
       "      <td>No</td>\n",
       "      <td>Credit card (automatic)</td>\n",
       "      <td>20.15</td>\n",
       "      <td>432.5</td>\n",
       "      <td>No</td>\n",
       "    </tr>\n",
       "    <tr>\n",
       "      <th>1663</th>\n",
       "      <td>5364-XYIRR</td>\n",
       "      <td>Male</td>\n",
       "      <td>0</td>\n",
       "      <td>Yes</td>\n",
       "      <td>No</td>\n",
       "      <td>51</td>\n",
       "      <td>Yes</td>\n",
       "      <td>Yes</td>\n",
       "      <td>Fiber optic</td>\n",
       "      <td>No</td>\n",
       "      <td>...</td>\n",
       "      <td>No</td>\n",
       "      <td>No</td>\n",
       "      <td>Yes</td>\n",
       "      <td>Yes</td>\n",
       "      <td>Month-to-month</td>\n",
       "      <td>Yes</td>\n",
       "      <td>Electronic check</td>\n",
       "      <td>94.65</td>\n",
       "      <td>4812.75</td>\n",
       "      <td>Yes</td>\n",
       "    </tr>\n",
       "    <tr>\n",
       "      <th>1235</th>\n",
       "      <td>1543-LLLFT</td>\n",
       "      <td>Male</td>\n",
       "      <td>1</td>\n",
       "      <td>Yes</td>\n",
       "      <td>No</td>\n",
       "      <td>61</td>\n",
       "      <td>Yes</td>\n",
       "      <td>Yes</td>\n",
       "      <td>Fiber optic</td>\n",
       "      <td>No</td>\n",
       "      <td>...</td>\n",
       "      <td>Yes</td>\n",
       "      <td>Yes</td>\n",
       "      <td>Yes</td>\n",
       "      <td>No</td>\n",
       "      <td>One year</td>\n",
       "      <td>Yes</td>\n",
       "      <td>Mailed check</td>\n",
       "      <td>98.30</td>\n",
       "      <td>6066.55</td>\n",
       "      <td>No</td>\n",
       "    </tr>\n",
       "  </tbody>\n",
       "</table>\n",
       "<p>5 rows × 21 columns</p>\n",
       "</div>"
      ],
      "text/plain": [
       "      customerID  gender  SeniorCitizen Partner Dependents  tenure  \\\n",
       "6671  5090-EMGTC  Female              0     Yes         No      59   \n",
       "4664  7571-YXDAD  Female              0      No         No       2   \n",
       "4662  4018-KJYUY    Male              0      No        Yes      22   \n",
       "1663  5364-XYIRR    Male              0     Yes         No      51   \n",
       "1235  1543-LLLFT    Male              1     Yes         No      61   \n",
       "\n",
       "     PhoneService MultipleLines InternetService       OnlineSecurity  ...  \\\n",
       "6671          Yes            No     Fiber optic                   No  ...   \n",
       "4664          Yes           Yes     Fiber optic                   No  ...   \n",
       "4662          Yes            No              No  No internet service  ...   \n",
       "1663          Yes           Yes     Fiber optic                   No  ...   \n",
       "1235          Yes           Yes     Fiber optic                   No  ...   \n",
       "\n",
       "         DeviceProtection          TechSupport          StreamingTV  \\\n",
       "6671                   No                  Yes                  Yes   \n",
       "4664                   No                   No                   No   \n",
       "4662  No internet service  No internet service  No internet service   \n",
       "1663                   No                   No                  Yes   \n",
       "1235                  Yes                  Yes                  Yes   \n",
       "\n",
       "          StreamingMovies        Contract PaperlessBilling  \\\n",
       "6671                  Yes        Two year              Yes   \n",
       "4664                   No  Month-to-month               No   \n",
       "4662  No internet service  Month-to-month               No   \n",
       "1663                  Yes  Month-to-month              Yes   \n",
       "1235                   No        One year              Yes   \n",
       "\n",
       "                PaymentMethod MonthlyCharges  TotalCharges Churn  \n",
       "6671             Mailed check         100.05       6034.85    No  \n",
       "4664  Credit card (automatic)          74.90        147.15   Yes  \n",
       "4662  Credit card (automatic)          20.15         432.5    No  \n",
       "1663         Electronic check          94.65       4812.75   Yes  \n",
       "1235             Mailed check          98.30       6066.55    No  \n",
       "\n",
       "[5 rows x 21 columns]"
      ]
     },
     "execution_count": 2,
     "metadata": {},
     "output_type": "execute_result"
    }
   ],
   "source": [
    "costumers_dataset = pd.read_csv(\"Dataset/WA_Fn-UseC_-Telco-Customer-Churn.csv\")\n",
    "costumers_dataset.sample(5)"
   ]
  },
  {
   "cell_type": "code",
   "execution_count": 3,
   "metadata": {},
   "outputs": [],
   "source": [
    "costumers_dataset.drop(\"customerID\", axis = 'columns', inplace = True)\n"
   ]
  },
  {
   "cell_type": "code",
   "execution_count": 4,
   "metadata": {},
   "outputs": [
    {
     "data": {
      "text/plain": [
       "array([ 29.85,  56.95,  53.85, ...,  29.6 ,  74.4 , 105.65])"
      ]
     },
     "execution_count": 4,
     "metadata": {},
     "output_type": "execute_result"
    }
   ],
   "source": [
    "costumers_dataset.TotalCharges.values # should be numeric\n",
    "costumers_dataset.MonthlyCharges.values"
   ]
  },
  {
   "cell_type": "code",
   "execution_count": 5,
   "metadata": {},
   "outputs": [
    {
     "data": {
      "text/plain": [
       "0       False\n",
       "1       False\n",
       "2       False\n",
       "3       False\n",
       "4       False\n",
       "        ...  \n",
       "7038    False\n",
       "7039    False\n",
       "7040    False\n",
       "7041    False\n",
       "7042    False\n",
       "Name: TotalCharges, Length: 7043, dtype: bool"
      ]
     },
     "execution_count": 5,
     "metadata": {},
     "output_type": "execute_result"
    }
   ],
   "source": [
    "pd.to_numeric(costumers_dataset.TotalCharges, errors=\"coerce\").isnull()"
   ]
  },
  {
   "cell_type": "code",
   "execution_count": 6,
   "metadata": {},
   "outputs": [
    {
     "data": {
      "text/plain": [
       "(11, 20)"
      ]
     },
     "execution_count": 6,
     "metadata": {},
     "output_type": "execute_result"
    }
   ],
   "source": [
    "costumers_dataset[pd.to_numeric(costumers_dataset.TotalCharges, errors=\"coerce\").isnull()].shape"
   ]
  },
  {
   "cell_type": "code",
   "execution_count": 7,
   "metadata": {},
   "outputs": [
    {
     "data": {
      "text/plain": [
       "gender                                 Female\n",
       "SeniorCitizen                               0\n",
       "Partner                                   Yes\n",
       "Dependents                                Yes\n",
       "tenure                                      0\n",
       "PhoneService                               No\n",
       "MultipleLines                No phone service\n",
       "InternetService                           DSL\n",
       "OnlineSecurity                            Yes\n",
       "OnlineBackup                               No\n",
       "DeviceProtection                          Yes\n",
       "TechSupport                               Yes\n",
       "StreamingTV                               Yes\n",
       "StreamingMovies                            No\n",
       "Contract                             Two year\n",
       "PaperlessBilling                          Yes\n",
       "PaymentMethod       Bank transfer (automatic)\n",
       "MonthlyCharges                          52.55\n",
       "TotalCharges                                 \n",
       "Churn                                      No\n",
       "Name: 488, dtype: object"
      ]
     },
     "execution_count": 7,
     "metadata": {},
     "output_type": "execute_result"
    }
   ],
   "source": [
    "costumers_dataset.iloc[488]"
   ]
  },
  {
   "cell_type": "code",
   "execution_count": 8,
   "metadata": {},
   "outputs": [
    {
     "data": {
      "text/plain": [
       "(7032, 20)"
      ]
     },
     "execution_count": 8,
     "metadata": {},
     "output_type": "execute_result"
    }
   ],
   "source": [
    "costumers_dataset1 = costumers_dataset[costumers_dataset.TotalCharges != ' ']\n",
    "costumers_dataset1.shape"
   ]
  },
  {
   "cell_type": "code",
   "execution_count": 9,
   "metadata": {},
   "outputs": [
    {
     "data": {
      "text/plain": [
       "gender               object\n",
       "SeniorCitizen         int64\n",
       "Partner              object\n",
       "Dependents           object\n",
       "tenure                int64\n",
       "PhoneService         object\n",
       "MultipleLines        object\n",
       "InternetService      object\n",
       "OnlineSecurity       object\n",
       "OnlineBackup         object\n",
       "DeviceProtection     object\n",
       "TechSupport          object\n",
       "StreamingTV          object\n",
       "StreamingMovies      object\n",
       "Contract             object\n",
       "PaperlessBilling     object\n",
       "PaymentMethod        object\n",
       "MonthlyCharges      float64\n",
       "TotalCharges         object\n",
       "Churn                object\n",
       "dtype: object"
      ]
     },
     "execution_count": 9,
     "metadata": {},
     "output_type": "execute_result"
    }
   ],
   "source": [
    "costumers_dataset1.dtypes"
   ]
  },
  {
   "cell_type": "code",
   "execution_count": 10,
   "metadata": {},
   "outputs": [
    {
     "name": "stderr",
     "output_type": "stream",
     "text": [
      "/tmp/ipykernel_52685/2018148266.py:1: SettingWithCopyWarning: \n",
      "A value is trying to be set on a copy of a slice from a DataFrame.\n",
      "Try using .loc[row_indexer,col_indexer] = value instead\n",
      "\n",
      "See the caveats in the documentation: https://pandas.pydata.org/pandas-docs/stable/user_guide/indexing.html#returning-a-view-versus-a-copy\n",
      "  costumers_dataset1.TotalCharges = pd.to_numeric(costumers_dataset1.TotalCharges)\n"
     ]
    }
   ],
   "source": [
    "costumers_dataset1.TotalCharges = pd.to_numeric(costumers_dataset1.TotalCharges)"
   ]
  },
  {
   "cell_type": "code",
   "execution_count": 11,
   "metadata": {},
   "outputs": [
    {
     "data": {
      "text/plain": [
       "dtype('float64')"
      ]
     },
     "execution_count": 11,
     "metadata": {},
     "output_type": "execute_result"
    }
   ],
   "source": [
    "costumers_dataset1.TotalCharges.dtype"
   ]
  },
  {
   "cell_type": "code",
   "execution_count": 12,
   "metadata": {},
   "outputs": [
    {
     "data": {
      "text/plain": [
       "<matplotlib.legend.Legend at 0x7f4bdb7ca4c0>"
      ]
     },
     "execution_count": 12,
     "metadata": {},
     "output_type": "execute_result"
    },
    {
     "data": {
      "image/png": "[encoded data removed]",
      "text/plain": [
       "<Figure size 640x480 with 1 Axes>"
      ]
     },
     "metadata": {},
     "output_type": "display_data"
    }
   ],
   "source": [
    "tenure_churn_no = costumers_dataset1[costumers_dataset1.Churn=='No'].tenure\n",
    "tenure_churn_yes = costumers_dataset1[costumers_dataset1.Churn=='Yes'].tenure\n",
    "plt.hist([tenure_churn_no,tenure_churn_yes], color=['red', 'green'],label=['Churn=No', 'Churn=Yes'])\n",
    "plt.xlabel(\"Tenure\")\n",
    "plt.ylabel(\"Numbers of Costumers\")\n",
    "plt.title('Costumer Churn Prediction Visualization')\n",
    "plt.legend()"
   ]
  },
  {
   "cell_type": "code",
   "execution_count": 13,
   "metadata": {},
   "outputs": [
    {
     "data": {
      "text/plain": [
       "<matplotlib.legend.Legend at 0x7f4bd9625f10>"
      ]
     },
     "execution_count": 13,
     "metadata": {},
     "output_type": "execute_result"
    },
    {
     "data": {
      "image/png": "[encoded data removed]",
      "text/plain": [
       "<Figure size 640x480 with 1 Axes>"
      ]
     },
     "metadata": {},
     "output_type": "display_data"
    }
   ],
   "source": [
    "mc_churn_no = costumers_dataset1[costumers_dataset1.Churn=='No'].MonthlyCharges\n",
    "mc_churn_yes = costumers_dataset1[costumers_dataset1.Churn=='Yes'].MonthlyCharges\n",
    "plt.hist([mc_churn_no,mc_churn_yes], rwidth=.95, color=['red', 'green'],label=['Churn=No', 'Churn=Yes'])\n",
    "\n",
    "plt.xlabel(\"Monthly Charges\")\n",
    "plt.ylabel(\"Numbers of Costumers\")\n",
    "plt.title('Costumer Churn Prediction Visualization')\n",
    "plt.legend()"
   ]
  },
  {
   "cell_type": "code",
   "execution_count": 14,
   "metadata": {},
   "outputs": [],
   "source": [
    "def print_unique_col_values(df):\n",
    "    for column in df:\n",
    "        if df[column].dtypes == 'object':\n",
    "            print(f'{column} : {df[column].unique()}')"
   ]
  },
  {
   "cell_type": "code",
   "execution_count": 15,
   "metadata": {},
   "outputs": [
    {
     "name": "stdout",
     "output_type": "stream",
     "text": [
      "gender : ['Female' 'Male']\n",
      "Partner : ['Yes' 'No']\n",
      "Dependents : ['No' 'Yes']\n",
      "PhoneService : ['No' 'Yes']\n",
      "MultipleLines : ['No phone service' 'No' 'Yes']\n",
      "InternetService : ['DSL' 'Fiber optic' 'No']\n",
      "OnlineSecurity : ['No' 'Yes' 'No internet service']\n",
      "OnlineBackup : ['Yes' 'No' 'No internet service']\n",
      "DeviceProtection : ['No' 'Yes' 'No internet service']\n",
      "TechSupport : ['No' 'Yes' 'No internet service']\n",
      "StreamingTV : ['No' 'Yes' 'No internet service']\n",
      "StreamingMovies : ['No' 'Yes' 'No internet service']\n",
      "Contract : ['Month-to-month' 'One year' 'Two year']\n",
      "PaperlessBilling : ['Yes' 'No']\n",
      "PaymentMethod : ['Electronic check' 'Mailed check' 'Bank transfer (automatic)'\n",
      " 'Credit card (automatic)']\n",
      "Churn : ['No' 'Yes']\n"
     ]
    }
   ],
   "source": [
    "print_unique_col_values(costumers_dataset1)"
   ]
  },
  {
   "cell_type": "code",
   "execution_count": 16,
   "metadata": {},
   "outputs": [
    {
     "name": "stderr",
     "output_type": "stream",
     "text": [
      "/tmp/ipykernel_52685/4056208816.py:1: SettingWithCopyWarning: \n",
      "A value is trying to be set on a copy of a slice from a DataFrame\n",
      "\n",
      "See the caveats in the documentation: https://pandas.pydata.org/pandas-docs/stable/user_guide/indexing.html#returning-a-view-versus-a-copy\n",
      "  costumers_dataset1.replace('No internet service', 'No', inplace=True)\n",
      "/tmp/ipykernel_52685/4056208816.py:2: SettingWithCopyWarning: \n",
      "A value is trying to be set on a copy of a slice from a DataFrame\n",
      "\n",
      "See the caveats in the documentation: https://pandas.pydata.org/pandas-docs/stable/user_guide/indexing.html#returning-a-view-versus-a-copy\n",
      "  costumers_dataset1.replace('No phone service', 'No', inplace=True)\n"
     ]
    }
   ],
   "source": [
    "costumers_dataset1.replace('No internet service', 'No', inplace=True)\n",
    "costumers_dataset1.replace('No phone service', 'No', inplace=True)"
   ]
  },
  {
   "cell_type": "code",
   "execution_count": 17,
   "metadata": {},
   "outputs": [
    {
     "name": "stdout",
     "output_type": "stream",
     "text": [
      "gender : ['Female' 'Male']\n",
      "Partner : ['Yes' 'No']\n",
      "Dependents : ['No' 'Yes']\n",
      "PhoneService : ['No' 'Yes']\n",
      "MultipleLines : ['No' 'Yes']\n",
      "InternetService : ['DSL' 'Fiber optic' 'No']\n",
      "OnlineSecurity : ['No' 'Yes']\n",
      "OnlineBackup : ['Yes' 'No']\n",
      "DeviceProtection : ['No' 'Yes']\n",
      "TechSupport : ['No' 'Yes']\n",
      "StreamingTV : ['No' 'Yes']\n",
      "StreamingMovies : ['No' 'Yes']\n",
      "Contract : ['Month-to-month' 'One year' 'Two year']\n",
      "PaperlessBilling : ['Yes' 'No']\n",
      "PaymentMethod : ['Electronic check' 'Mailed check' 'Bank transfer (automatic)'\n",
      " 'Credit card (automatic)']\n",
      "Churn : ['No' 'Yes']\n"
     ]
    }
   ],
   "source": [
    "print_unique_col_values(costumers_dataset1)"
   ]
  },
  {
   "cell_type": "code",
   "execution_count": 18,
   "metadata": {},
   "outputs": [
    {
     "name": "stderr",
     "output_type": "stream",
     "text": [
      "/tmp/ipykernel_52685/313109065.py:4: SettingWithCopyWarning: \n",
      "A value is trying to be set on a copy of a slice from a DataFrame\n",
      "\n",
      "See the caveats in the documentation: https://pandas.pydata.org/pandas-docs/stable/user_guide/indexing.html#returning-a-view-versus-a-copy\n",
      "  costumers_dataset1[col].replace('Yes', 1, inplace = True)\n",
      "/tmp/ipykernel_52685/313109065.py:5: SettingWithCopyWarning: \n",
      "A value is trying to be set on a copy of a slice from a DataFrame\n",
      "\n",
      "See the caveats in the documentation: https://pandas.pydata.org/pandas-docs/stable/user_guide/indexing.html#returning-a-view-versus-a-copy\n",
      "  costumers_dataset1[col].replace('No', 0, inplace = True)\n"
     ]
    }
   ],
   "source": [
    "yes_no_cols = [\"Partner\", \"Dependents\", \"PhoneService\", \"MultipleLines\", \"OnlineSecurity\", \"OnlineBackup\", \"DeviceProtection\", \"TechSupport\", \"StreamingTV\", \"StreamingMovies\", \"PaperlessBilling\", \"Churn\"]\n",
    "\n",
    "for col in yes_no_cols:\n",
    "    costumers_dataset1[col].replace('Yes', 1, inplace = True)\n",
    "    costumers_dataset1[col].replace('No', 0, inplace = True)"
   ]
  },
  {
   "cell_type": "code",
   "execution_count": 19,
   "metadata": {},
   "outputs": [
    {
     "name": "stderr",
     "output_type": "stream",
     "text": [
      "/tmp/ipykernel_52685/728109111.py:1: SettingWithCopyWarning: \n",
      "A value is trying to be set on a copy of a slice from a DataFrame\n",
      "\n",
      "See the caveats in the documentation: https://pandas.pydata.org/pandas-docs/stable/user_guide/indexing.html#returning-a-view-versus-a-copy\n",
      "  costumers_dataset1['gender'].replace({'Female': 1, 'Male':0}, inplace = True)\n"
     ]
    }
   ],
   "source": [
    "costumers_dataset1['gender'].replace({'Female': 1, 'Male':0}, inplace = True)"
   ]
  },
  {
   "cell_type": "code",
   "execution_count": 20,
   "metadata": {},
   "outputs": [
    {
     "name": "stderr",
     "output_type": "stream",
     "text": [
      "/tmp/ipykernel_52685/3945134557.py:1: SettingWithCopyWarning: \n",
      "A value is trying to be set on a copy of a slice from a DataFrame.\n",
      "Try using .loc[row_indexer,col_indexer] = value instead\n",
      "\n",
      "See the caveats in the documentation: https://pandas.pydata.org/pandas-docs/stable/user_guide/indexing.html#returning-a-view-versus-a-copy\n",
      "  costumers_dataset1.Partner = pd.to_numeric(costumers_dataset1.Partner)\n"
     ]
    }
   ],
   "source": [
    "costumers_dataset1.Partner = pd.to_numeric(costumers_dataset1.Partner)"
   ]
  },
  {
   "cell_type": "code",
   "execution_count": 21,
   "metadata": {},
   "outputs": [
    {
     "name": "stdout",
     "output_type": "stream",
     "text": [
      "InternetService : ['DSL' 'Fiber optic' 'No']\n",
      "Contract : ['Month-to-month' 'One year' 'Two year']\n",
      "PaymentMethod : ['Electronic check' 'Mailed check' 'Bank transfer (automatic)'\n",
      " 'Credit card (automatic)']\n"
     ]
    }
   ],
   "source": [
    "print_unique_col_values(costumers_dataset1)"
   ]
  },
  {
   "cell_type": "code",
   "execution_count": 22,
   "metadata": {},
   "outputs": [
    {
     "data": {
      "text/html": [
       "<div>\n",
       "<style scoped>\n",
       "    .dataframe tbody tr th:only-of-type {\n",
       "        vertical-align: middle;\n",
       "    }\n",
       "\n",
       "    .dataframe tbody tr th {\n",
       "        vertical-align: top;\n",
       "    }\n",
       "\n",
       "    .dataframe thead th {\n",
       "        text-align: right;\n",
       "    }\n",
       "</style>\n",
       "<table border=\"1\" class=\"dataframe\">\n",
       "  <thead>\n",
       "    <tr style=\"text-align: right;\">\n",
       "      <th></th>\n",
       "      <th>gender</th>\n",
       "      <th>SeniorCitizen</th>\n",
       "      <th>Partner</th>\n",
       "      <th>Dependents</th>\n",
       "      <th>tenure</th>\n",
       "      <th>PhoneService</th>\n",
       "      <th>MultipleLines</th>\n",
       "      <th>InternetService</th>\n",
       "      <th>OnlineSecurity</th>\n",
       "      <th>OnlineBackup</th>\n",
       "      <th>DeviceProtection</th>\n",
       "      <th>TechSupport</th>\n",
       "      <th>StreamingTV</th>\n",
       "      <th>StreamingMovies</th>\n",
       "      <th>Contract</th>\n",
       "      <th>PaperlessBilling</th>\n",
       "      <th>PaymentMethod</th>\n",
       "      <th>MonthlyCharges</th>\n",
       "      <th>TotalCharges</th>\n",
       "      <th>Churn</th>\n",
       "    </tr>\n",
       "  </thead>\n",
       "  <tbody>\n",
       "    <tr>\n",
       "      <th>5224</th>\n",
       "      <td>1</td>\n",
       "      <td>1</td>\n",
       "      <td>0</td>\n",
       "      <td>0</td>\n",
       "      <td>45</td>\n",
       "      <td>1</td>\n",
       "      <td>1</td>\n",
       "      <td>Fiber optic</td>\n",
       "      <td>0</td>\n",
       "      <td>0</td>\n",
       "      <td>1</td>\n",
       "      <td>0</td>\n",
       "      <td>1</td>\n",
       "      <td>1</td>\n",
       "      <td>One year</td>\n",
       "      <td>1</td>\n",
       "      <td>Bank transfer (automatic)</td>\n",
       "      <td>100.15</td>\n",
       "      <td>4459.80</td>\n",
       "      <td>0</td>\n",
       "    </tr>\n",
       "    <tr>\n",
       "      <th>5256</th>\n",
       "      <td>0</td>\n",
       "      <td>0</td>\n",
       "      <td>1</td>\n",
       "      <td>1</td>\n",
       "      <td>52</td>\n",
       "      <td>1</td>\n",
       "      <td>1</td>\n",
       "      <td>Fiber optic</td>\n",
       "      <td>0</td>\n",
       "      <td>0</td>\n",
       "      <td>1</td>\n",
       "      <td>1</td>\n",
       "      <td>0</td>\n",
       "      <td>1</td>\n",
       "      <td>Two year</td>\n",
       "      <td>1</td>\n",
       "      <td>Bank transfer (automatic)</td>\n",
       "      <td>96.25</td>\n",
       "      <td>4990.25</td>\n",
       "      <td>1</td>\n",
       "    </tr>\n",
       "    <tr>\n",
       "      <th>3420</th>\n",
       "      <td>1</td>\n",
       "      <td>0</td>\n",
       "      <td>0</td>\n",
       "      <td>0</td>\n",
       "      <td>26</td>\n",
       "      <td>1</td>\n",
       "      <td>1</td>\n",
       "      <td>DSL</td>\n",
       "      <td>1</td>\n",
       "      <td>1</td>\n",
       "      <td>0</td>\n",
       "      <td>0</td>\n",
       "      <td>1</td>\n",
       "      <td>0</td>\n",
       "      <td>Month-to-month</td>\n",
       "      <td>1</td>\n",
       "      <td>Bank transfer (automatic)</td>\n",
       "      <td>69.50</td>\n",
       "      <td>1800.05</td>\n",
       "      <td>0</td>\n",
       "    </tr>\n",
       "    <tr>\n",
       "      <th>2719</th>\n",
       "      <td>1</td>\n",
       "      <td>1</td>\n",
       "      <td>1</td>\n",
       "      <td>1</td>\n",
       "      <td>56</td>\n",
       "      <td>1</td>\n",
       "      <td>0</td>\n",
       "      <td>DSL</td>\n",
       "      <td>1</td>\n",
       "      <td>0</td>\n",
       "      <td>0</td>\n",
       "      <td>1</td>\n",
       "      <td>1</td>\n",
       "      <td>1</td>\n",
       "      <td>Two year</td>\n",
       "      <td>1</td>\n",
       "      <td>Credit card (automatic)</td>\n",
       "      <td>72.60</td>\n",
       "      <td>4084.35</td>\n",
       "      <td>0</td>\n",
       "    </tr>\n",
       "    <tr>\n",
       "      <th>6381</th>\n",
       "      <td>0</td>\n",
       "      <td>0</td>\n",
       "      <td>0</td>\n",
       "      <td>1</td>\n",
       "      <td>1</td>\n",
       "      <td>1</td>\n",
       "      <td>0</td>\n",
       "      <td>No</td>\n",
       "      <td>0</td>\n",
       "      <td>0</td>\n",
       "      <td>0</td>\n",
       "      <td>0</td>\n",
       "      <td>0</td>\n",
       "      <td>0</td>\n",
       "      <td>Month-to-month</td>\n",
       "      <td>0</td>\n",
       "      <td>Mailed check</td>\n",
       "      <td>19.55</td>\n",
       "      <td>19.55</td>\n",
       "      <td>0</td>\n",
       "    </tr>\n",
       "  </tbody>\n",
       "</table>\n",
       "</div>"
      ],
      "text/plain": [
       "      gender  SeniorCitizen  Partner  Dependents  tenure  PhoneService  \\\n",
       "5224       1              1        0           0      45             1   \n",
       "5256       0              0        1           1      52             1   \n",
       "3420       1              0        0           0      26             1   \n",
       "2719       1              1        1           1      56             1   \n",
       "6381       0              0        0           1       1             1   \n",
       "\n",
       "      MultipleLines InternetService  OnlineSecurity  OnlineBackup  \\\n",
       "5224              1     Fiber optic               0             0   \n",
       "5256              1     Fiber optic               0             0   \n",
       "3420              1             DSL               1             1   \n",
       "2719              0             DSL               1             0   \n",
       "6381              0              No               0             0   \n",
       "\n",
       "      DeviceProtection  TechSupport  StreamingTV  StreamingMovies  \\\n",
       "5224                 1            0            1                1   \n",
       "5256                 1            1            0                1   \n",
       "3420                 0            0            1                0   \n",
       "2719                 0            1            1                1   \n",
       "6381                 0            0            0                0   \n",
       "\n",
       "            Contract  PaperlessBilling              PaymentMethod  \\\n",
       "5224        One year                 1  Bank transfer (automatic)   \n",
       "5256        Two year                 1  Bank transfer (automatic)   \n",
       "3420  Month-to-month                 1  Bank transfer (automatic)   \n",
       "2719        Two year                 1    Credit card (automatic)   \n",
       "6381  Month-to-month                 0               Mailed check   \n",
       "\n",
       "      MonthlyCharges  TotalCharges  Churn  \n",
       "5224          100.15       4459.80      0  \n",
       "5256           96.25       4990.25      1  \n",
       "3420           69.50       1800.05      0  \n",
       "2719           72.60       4084.35      0  \n",
       "6381           19.55         19.55      0  "
      ]
     },
     "execution_count": 22,
     "metadata": {},
     "output_type": "execute_result"
    }
   ],
   "source": [
    "costumers_dataset1.sample(5)"
   ]
  },
  {
   "cell_type": "code",
   "execution_count": 23,
   "metadata": {},
   "outputs": [
    {
     "data": {
      "text/plain": [
       "array([1, 0])"
      ]
     },
     "execution_count": 23,
     "metadata": {},
     "output_type": "execute_result"
    }
   ],
   "source": [
    "costumers_dataset1['gender'].unique()"
   ]
  },
  {
   "cell_type": "code",
   "execution_count": 27,
   "metadata": {},
   "outputs": [],
   "source": [
    "final_costumer_dataset = pd.get_dummies(data=costumers_dataset1, columns=['InternetService', 'Contract', 'PaymentMethod'])"
   ]
  },
  {
   "cell_type": "code",
   "execution_count": 29,
   "metadata": {},
   "outputs": [
    {
     "data": {
      "text/plain": [
       "gender                                       int64\n",
       "SeniorCitizen                                int64\n",
       "Partner                                      int64\n",
       "Dependents                                   int64\n",
       "tenure                                       int64\n",
       "PhoneService                                 int64\n",
       "MultipleLines                                int64\n",
       "OnlineSecurity                               int64\n",
       "OnlineBackup                                 int64\n",
       "DeviceProtection                             int64\n",
       "TechSupport                                  int64\n",
       "StreamingTV                                  int64\n",
       "StreamingMovies                              int64\n",
       "PaperlessBilling                             int64\n",
       "MonthlyCharges                             float64\n",
       "TotalCharges                               float64\n",
       "Churn                                        int64\n",
       "InternetService_DSL                           bool\n",
       "InternetService_Fiber optic                   bool\n",
       "InternetService_No                            bool\n",
       "Contract_Month-to-month                       bool\n",
       "Contract_One year                             bool\n",
       "Contract_Two year                             bool\n",
       "PaymentMethod_Bank transfer (automatic)       bool\n",
       "PaymentMethod_Credit card (automatic)         bool\n",
       "PaymentMethod_Electronic check                bool\n",
       "PaymentMethod_Mailed check                    bool\n",
       "dtype: object"
      ]
     },
     "execution_count": 29,
     "metadata": {},
     "output_type": "execute_result"
    }
   ],
   "source": [
    "final_costumer_dataset.dtypes"
   ]
  },
  {
   "cell_type": "code",
   "execution_count": 30,
   "metadata": {},
   "outputs": [],
   "source": [
    "cols_to_scale = ['tenure', 'MonthlyCharges', 'TotalCharges']\n",
    "\n",
    "from sklearn.preprocessing import MinMaxScaler\n",
    "scaler = MinMaxScaler()\n",
    "\n",
    "final_costumer_dataset[cols_to_scale] = scaler.fit_transform(final_costumer_dataset[cols_to_scale])"
   ]
  },
  {
   "cell_type": "code",
   "execution_count": 35,
   "metadata": {},
   "outputs": [],
   "source": [
    "X = final_costumer_dataset.drop('Churn', axis='columns')\n",
    "y = final_costumer_dataset['Churn']"
   ]
  },
  {
   "cell_type": "code",
   "execution_count": 37,
   "metadata": {},
   "outputs": [],
   "source": [
    "from sklearn.model_selection import train_test_split\n",
    "X_train, X_test, y_train, y_test = train_test_split(X,y, test_size=0.2, random_state = 5)"
   ]
  },
  {
   "cell_type": "code",
   "execution_count": 42,
   "metadata": {},
   "outputs": [
    {
     "name": "stdout",
     "output_type": "stream",
     "text": [
      "                                           gender  SeniorCitizen   Partner  \\\n",
      "gender                                   1.000000       0.001819  0.001379   \n",
      "SeniorCitizen                            0.001819       1.000000  0.016957   \n",
      "Partner                                  0.001379       0.016957  1.000000   \n",
      "Dependents                              -0.010349      -0.210550  0.452269   \n",
      "tenure                                  -0.005285       0.015683  0.381912   \n",
      "PhoneService                             0.007515       0.008392  0.018397   \n",
      "MultipleLines                            0.008883       0.142996  0.142561   \n",
      "OnlineSecurity                           0.016328      -0.038576  0.143346   \n",
      "OnlineBackup                             0.013093       0.066663  0.141849   \n",
      "DeviceProtection                         0.000807       0.059514  0.153556   \n",
      "TechSupport                              0.008507      -0.060577  0.120206   \n",
      "StreamingTV                              0.007124       0.105445  0.124483   \n",
      "StreamingMovies                          0.010105       0.119842  0.118108   \n",
      "PaperlessBilling                         0.011902       0.156258 -0.013957   \n",
      "MonthlyCharges                           0.013779       0.219874  0.097825   \n",
      "TotalCharges                            -0.000048       0.102411  0.319072   \n",
      "Churn                                    0.008545       0.150541 -0.149982   \n",
      "InternetService_DSL                     -0.007584      -0.108276 -0.001043   \n",
      "InternetService_Fiber optic              0.011189       0.254923  0.001235   \n",
      "InternetService_No                      -0.004745      -0.182519 -0.000286   \n",
      "Contract_Month-to-month                  0.003251       0.137752 -0.280202   \n",
      "Contract_One year                       -0.007755      -0.046491  0.083067   \n",
      "Contract_Two year                        0.003603      -0.116205  0.247334   \n",
      "PaymentMethod_Bank transfer (automatic)  0.015973      -0.016235  0.111406   \n",
      "PaymentMethod_Credit card (automatic)   -0.001632      -0.024359  0.082327   \n",
      "PaymentMethod_Electronic check          -0.000844       0.171322 -0.083207   \n",
      "PaymentMethod_Mailed check              -0.013199      -0.152987 -0.096948   \n",
      "\n",
      "                                         Dependents    tenure  PhoneService  \\\n",
      "gender                                    -0.010349 -0.005285      0.007515   \n",
      "SeniorCitizen                             -0.210550  0.015683      0.008392   \n",
      "Partner                                    0.452269  0.381912      0.018397   \n",
      "Dependents                                 1.000000  0.163386     -0.001078   \n",
      "tenure                                     0.163386  1.000000      0.007877   \n",
      "PhoneService                              -0.001078  0.007877      1.000000   \n",
      "MultipleLines                             -0.024307  0.332399      0.279530   \n",
      "OnlineSecurity                             0.080786  0.328297     -0.091676   \n",
      "OnlineBackup                               0.023639  0.361138     -0.052133   \n",
      "DeviceProtection                           0.013900  0.361520     -0.070076   \n",
      "TechSupport                                0.063053  0.325288     -0.095138   \n",
      "StreamingTV                               -0.016499  0.280264     -0.021383   \n",
      "StreamingMovies                           -0.038375  0.285402     -0.033477   \n",
      "PaperlessBilling                          -0.110131  0.004823      0.016696   \n",
      "MonthlyCharges                            -0.112343  0.246862      0.248033   \n",
      "TotalCharges                               0.064653  0.825880      0.113008   \n",
      "Churn                                     -0.163128 -0.354049      0.011691   \n",
      "InternetService_DSL                        0.051593  0.013786     -0.452255   \n",
      "InternetService_Fiber optic               -0.164101  0.017930      0.290183   \n",
      "InternetService_No                         0.138383 -0.037529      0.171817   \n",
      "Contract_Month-to-month                   -0.229715 -0.649346     -0.001243   \n",
      "Contract_One year                          0.069222  0.202338     -0.003142   \n",
      "Contract_Two year                          0.201699  0.563801      0.004442   \n",
      "PaymentMethod_Bank transfer (automatic)    0.052369  0.243822      0.008271   \n",
      "PaymentMethod_Credit card (automatic)      0.061134  0.232800     -0.006916   \n",
      "PaymentMethod_Electronic check            -0.149274 -0.210197      0.002747   \n",
      "PaymentMethod_Mailed check                 0.056448 -0.232181     -0.004463   \n",
      "\n",
      "                                         MultipleLines  OnlineSecurity  \\\n",
      "gender                                        0.008883        0.016328   \n",
      "SeniorCitizen                                 0.142996       -0.038576   \n",
      "Partner                                       0.142561        0.143346   \n",
      "Dependents                                   -0.024307        0.080786   \n",
      "tenure                                        0.332399        0.328297   \n",
      "PhoneService                                  0.279530       -0.091676   \n",
      "MultipleLines                                 1.000000        0.098592   \n",
      "OnlineSecurity                                0.098592        1.000000   \n",
      "OnlineBackup                                  0.202228        0.283285   \n",
      "DeviceProtection                              0.201733        0.274875   \n",
      "TechSupport                                   0.100421        0.354458   \n",
      "StreamingTV                                   0.257804        0.175514   \n",
      "StreamingMovies                               0.259194        0.187426   \n",
      "PaperlessBilling                              0.163746       -0.004051   \n",
      "MonthlyCharges                                0.490912        0.296447   \n",
      "TotalCharges                                  0.469042        0.412619   \n",
      "Churn                                         0.040033       -0.171270   \n",
      "InternetService_DSL                          -0.200318        0.320343   \n",
      "InternetService_Fiber optic                   0.366420       -0.030506   \n",
      "InternetService_No                           -0.210794       -0.332799   \n",
      "Contract_Month-to-month                      -0.088558       -0.246844   \n",
      "Contract_One year                            -0.003594        0.100658   \n",
      "Contract_Two year                             0.106618        0.191698   \n",
      "PaymentMethod_Bank transfer (automatic)       0.075429        0.094366   \n",
      "PaymentMethod_Credit card (automatic)         0.060319        0.115473   \n",
      "PaymentMethod_Electronic check                0.083583       -0.112295   \n",
      "PaymentMethod_Mailed check                   -0.227672       -0.079918   \n",
      "\n",
      "                                         OnlineBackup  DeviceProtection  ...  \\\n",
      "gender                                       0.013093          0.000807  ...   \n",
      "SeniorCitizen                                0.066663          0.059514  ...   \n",
      "Partner                                      0.141849          0.153556  ...   \n",
      "Dependents                                   0.023639          0.013900  ...   \n",
      "tenure                                       0.361138          0.361520  ...   \n",
      "PhoneService                                -0.052133         -0.070076  ...   \n",
      "MultipleLines                                0.202228          0.201733  ...   \n",
      "OnlineSecurity                               0.283285          0.274875  ...   \n",
      "OnlineBackup                                 1.000000          0.303058  ...   \n",
      "DeviceProtection                             0.303058          1.000000  ...   \n",
      "TechSupport                                  0.293705          0.332850  ...   \n",
      "StreamingTV                                  0.281601          0.389924  ...   \n",
      "StreamingMovies                              0.274523          0.402309  ...   \n",
      "PaperlessBilling                             0.127056          0.104079  ...   \n",
      "MonthlyCharges                               0.441529          0.482607  ...   \n",
      "TotalCharges                                 0.510100          0.522881  ...   \n",
      "Churn                                       -0.082307         -0.066193  ...   \n",
      "InternetService_DSL                          0.156765          0.145150  ...   \n",
      "InternetService_Fiber optic                  0.165940          0.176356  ...   \n",
      "InternetService_No                          -0.380990         -0.380151  ...   \n",
      "Contract_Month-to-month                     -0.164393         -0.225988  ...   \n",
      "Contract_One year                            0.084113          0.102911  ...   \n",
      "Contract_Two year                            0.111391          0.165248  ...   \n",
      "PaymentMethod_Bank transfer (automatic)      0.086942          0.083047  ...   \n",
      "PaymentMethod_Credit card (automatic)        0.090455          0.111252  ...   \n",
      "PaymentMethod_Electronic check              -0.000364         -0.003308  ...   \n",
      "PaymentMethod_Mailed check                  -0.174075         -0.187325  ...   \n",
      "\n",
      "                                         InternetService_DSL  \\\n",
      "gender                                             -0.007584   \n",
      "SeniorCitizen                                      -0.108276   \n",
      "Partner                                            -0.001043   \n",
      "Dependents                                          0.051593   \n",
      "tenure                                              0.013786   \n",
      "PhoneService                                       -0.452255   \n",
      "MultipleLines                                      -0.200318   \n",
      "OnlineSecurity                                      0.320343   \n",
      "OnlineBackup                                        0.156765   \n",
      "DeviceProtection                                    0.145150   \n",
      "TechSupport                                         0.312183   \n",
      "StreamingTV                                         0.014973   \n",
      "StreamingMovies                                     0.025623   \n",
      "PaperlessBilling                                   -0.063390   \n",
      "MonthlyCharges                                     -0.161368   \n",
      "TotalCharges                                       -0.052190   \n",
      "Churn                                              -0.124141   \n",
      "InternetService_DSL                                 1.000000   \n",
      "InternetService_Fiber optic                        -0.641636   \n",
      "InternetService_No                                 -0.379912   \n",
      "Contract_Month-to-month                            -0.065226   \n",
      "Contract_One year                                   0.047300   \n",
      "Contract_Two year                                   0.030924   \n",
      "PaymentMethod_Bank transfer (automatic)             0.024760   \n",
      "PaymentMethod_Credit card (automatic)               0.051222   \n",
      "PaymentMethod_Electronic check                     -0.104293   \n",
      "PaymentMethod_Mailed check                          0.042754   \n",
      "\n",
      "                                         InternetService_Fiber optic  \\\n",
      "gender                                                      0.011189   \n",
      "SeniorCitizen                                               0.254923   \n",
      "Partner                                                     0.001235   \n",
      "Dependents                                                 -0.164101   \n",
      "tenure                                                      0.017930   \n",
      "PhoneService                                                0.290183   \n",
      "MultipleLines                                               0.366420   \n",
      "OnlineSecurity                                             -0.030506   \n",
      "OnlineBackup                                                0.165940   \n",
      "DeviceProtection                                            0.176356   \n",
      "TechSupport                                                -0.020299   \n",
      "StreamingTV                                                 0.329744   \n",
      "StreamingMovies                                             0.322457   \n",
      "PaperlessBilling                                            0.326470   \n",
      "MonthlyCharges                                              0.787195   \n",
      "TotalCharges                                                0.360769   \n",
      "Churn                                                       0.307463   \n",
      "InternetService_DSL                                        -0.641636   \n",
      "InternetService_Fiber optic                                 1.000000   \n",
      "InternetService_No                                         -0.465736   \n",
      "Contract_Month-to-month                                     0.243014   \n",
      "Contract_One year                                          -0.076809   \n",
      "Contract_Two year                                          -0.209965   \n",
      "PaymentMethod_Bank transfer (automatic)                    -0.022779   \n",
      "PaymentMethod_Credit card (automatic)                      -0.050552   \n",
      "PaymentMethod_Electronic check                              0.335763   \n",
      "PaymentMethod_Mailed check                                 -0.305984   \n",
      "\n",
      "                                         InternetService_No  \\\n",
      "gender                                            -0.004745   \n",
      "SeniorCitizen                                     -0.182519   \n",
      "Partner                                           -0.000286   \n",
      "Dependents                                         0.138383   \n",
      "tenure                                            -0.037529   \n",
      "PhoneService                                       0.171817   \n",
      "MultipleLines                                     -0.210794   \n",
      "OnlineSecurity                                    -0.332799   \n",
      "OnlineBackup                                      -0.380990   \n",
      "DeviceProtection                                  -0.380151   \n",
      "TechSupport                                       -0.335695   \n",
      "StreamingTV                                       -0.414951   \n",
      "StreamingMovies                                   -0.418450   \n",
      "PaperlessBilling                                  -0.320592   \n",
      "MonthlyCharges                                    -0.763191   \n",
      "TotalCharges                                      -0.374878   \n",
      "Churn                                             -0.227578   \n",
      "InternetService_DSL                               -0.379912   \n",
      "InternetService_Fiber optic                       -0.465736   \n",
      "InternetService_No                                 1.000000   \n",
      "Contract_Month-to-month                           -0.217824   \n",
      "Contract_One year                                  0.038061   \n",
      "Contract_Two year                                  0.217542   \n",
      "PaymentMethod_Bank transfer (automatic)           -0.001094   \n",
      "PaymentMethod_Credit card (automatic)              0.001870   \n",
      "PaymentMethod_Electronic check                    -0.284608   \n",
      "PaymentMethod_Mailed check                         0.319694   \n",
      "\n",
      "                                         Contract_Month-to-month  \\\n",
      "gender                                                  0.003251   \n",
      "SeniorCitizen                                           0.137752   \n",
      "Partner                                                -0.280202   \n",
      "Dependents                                             -0.229715   \n",
      "tenure                                                 -0.649346   \n",
      "PhoneService                                           -0.001243   \n",
      "MultipleLines                                          -0.088558   \n",
      "OnlineSecurity                                         -0.246844   \n",
      "OnlineBackup                                           -0.164393   \n",
      "DeviceProtection                                       -0.225988   \n",
      "TechSupport                                            -0.285491   \n",
      "StreamingTV                                            -0.112550   \n",
      "StreamingMovies                                        -0.117867   \n",
      "PaperlessBilling                                        0.168296   \n",
      "MonthlyCharges                                          0.058933   \n",
      "TotalCharges                                           -0.446776   \n",
      "Churn                                                   0.404565   \n",
      "InternetService_DSL                                    -0.065226   \n",
      "InternetService_Fiber optic                             0.243014   \n",
      "InternetService_No                                     -0.217824   \n",
      "Contract_Month-to-month                                 1.000000   \n",
      "Contract_One year                                      -0.570053   \n",
      "Contract_Two year                                      -0.621933   \n",
      "PaymentMethod_Bank transfer (automatic)                -0.180159   \n",
      "PaymentMethod_Credit card (automatic)                  -0.204960   \n",
      "PaymentMethod_Electronic check                          0.330879   \n",
      "PaymentMethod_Mailed check                              0.006209   \n",
      "\n",
      "                                         Contract_One year  Contract_Two year  \\\n",
      "gender                                           -0.007755           0.003603   \n",
      "SeniorCitizen                                    -0.046491          -0.116205   \n",
      "Partner                                           0.083067           0.247334   \n",
      "Dependents                                        0.069222           0.201699   \n",
      "tenure                                            0.202338           0.563801   \n",
      "PhoneService                                     -0.003142           0.004442   \n",
      "MultipleLines                                    -0.003594           0.106618   \n",
      "OnlineSecurity                                    0.100658           0.191698   \n",
      "OnlineBackup                                      0.084113           0.111391   \n",
      "DeviceProtection                                  0.102911           0.165248   \n",
      "TechSupport                                       0.096258           0.240924   \n",
      "StreamingTV                                       0.061930           0.072124   \n",
      "StreamingMovies                                   0.064780           0.075603   \n",
      "PaperlessBilling                                 -0.052278          -0.146281   \n",
      "MonthlyCharges                                    0.004810          -0.073256   \n",
      "TotalCharges                                      0.170569           0.358036   \n",
      "Churn                                            -0.178225          -0.301552   \n",
      "InternetService_DSL                               0.047300           0.030924   \n",
      "InternetService_Fiber optic                      -0.076809          -0.209965   \n",
      "InternetService_No                                0.038061           0.217542   \n",
      "Contract_Month-to-month                          -0.570053          -0.621933   \n",
      "Contract_One year                                 1.000000          -0.288843   \n",
      "Contract_Two year                                -0.288843           1.000000   \n",
      "PaymentMethod_Bank transfer (automatic)           0.057629           0.155004   \n",
      "PaymentMethod_Credit card (automatic)             0.067590           0.174410   \n",
      "PaymentMethod_Electronic check                   -0.109546          -0.281147   \n",
      "PaymentMethod_Mailed check                        0.000197          -0.007423   \n",
      "\n",
      "                                         PaymentMethod_Bank transfer (automatic)  \\\n",
      "gender                                                                  0.015973   \n",
      "SeniorCitizen                                                          -0.016235   \n",
      "Partner                                                                 0.111406   \n",
      "Dependents                                                              0.052369   \n",
      "tenure                                                                  0.243822   \n",
      "PhoneService                                                            0.008271   \n",
      "MultipleLines                                                           0.075429   \n",
      "OnlineSecurity                                                          0.094366   \n",
      "OnlineBackup                                                            0.086942   \n",
      "DeviceProtection                                                        0.083047   \n",
      "TechSupport                                                             0.100472   \n",
      "StreamingTV                                                             0.046121   \n",
      "StreamingMovies                                                         0.048755   \n",
      "PaperlessBilling                                                       -0.017469   \n",
      "MonthlyCharges                                                          0.042410   \n",
      "TotalCharges                                                            0.186119   \n",
      "Churn                                                                  -0.118136   \n",
      "InternetService_DSL                                                     0.024760   \n",
      "InternetService_Fiber optic                                            -0.022779   \n",
      "InternetService_No                                                     -0.001094   \n",
      "Contract_Month-to-month                                                -0.180159   \n",
      "Contract_One year                                                       0.057629   \n",
      "Contract_Two year                                                       0.155004   \n",
      "PaymentMethod_Bank transfer (automatic)                                 1.000000   \n",
      "PaymentMethod_Credit card (automatic)                                  -0.278423   \n",
      "PaymentMethod_Electronic check                                         -0.377270   \n",
      "PaymentMethod_Mailed check                                             -0.288097   \n",
      "\n",
      "                                         PaymentMethod_Credit card (automatic)  \\\n",
      "gender                                                               -0.001632   \n",
      "SeniorCitizen                                                        -0.024359   \n",
      "Partner                                                               0.082327   \n",
      "Dependents                                                            0.061134   \n",
      "tenure                                                                0.232800   \n",
      "PhoneService                                                         -0.006916   \n",
      "MultipleLines                                                         0.060319   \n",
      "OnlineSecurity                                                        0.115473   \n",
      "OnlineBackup                                                          0.090455   \n",
      "DeviceProtection                                                      0.111252   \n",
      "TechSupport                                                           0.117024   \n",
      "StreamingTV                                                           0.040010   \n",
      "StreamingMovies                                                       0.048398   \n",
      "PaperlessBilling                                                     -0.013726   \n",
      "MonthlyCharges                                                        0.030055   \n",
      "TotalCharges                                                          0.182663   \n",
      "Churn                                                                -0.134687   \n",
      "InternetService_DSL                                                   0.051222   \n",
      "InternetService_Fiber optic                                          -0.050552   \n",
      "InternetService_No                                                    0.001870   \n",
      "Contract_Month-to-month                                              -0.204960   \n",
      "Contract_One year                                                     0.067590   \n",
      "Contract_Two year                                                     0.174410   \n",
      "PaymentMethod_Bank transfer (automatic)                              -0.278423   \n",
      "PaymentMethod_Credit card (automatic)                                 1.000000   \n",
      "PaymentMethod_Electronic check                                       -0.373978   \n",
      "PaymentMethod_Mailed check                                           -0.285583   \n",
      "\n",
      "                                         PaymentMethod_Electronic check  \\\n",
      "gender                                                        -0.000844   \n",
      "SeniorCitizen                                                  0.171322   \n",
      "Partner                                                       -0.083207   \n",
      "Dependents                                                    -0.149274   \n",
      "tenure                                                        -0.210197   \n",
      "PhoneService                                                   0.002747   \n",
      "MultipleLines                                                  0.083583   \n",
      "OnlineSecurity                                                -0.112295   \n",
      "OnlineBackup                                                  -0.000364   \n",
      "DeviceProtection                                              -0.003308   \n",
      "TechSupport                                                   -0.114807   \n",
      "StreamingTV                                                    0.144747   \n",
      "StreamingMovies                                                0.137420   \n",
      "PaperlessBilling                                               0.208427   \n",
      "MonthlyCharges                                                 0.271117   \n",
      "TotalCharges                                                  -0.060436   \n",
      "Churn                                                          0.301455   \n",
      "InternetService_DSL                                           -0.104293   \n",
      "InternetService_Fiber optic                                    0.335763   \n",
      "InternetService_No                                            -0.284608   \n",
      "Contract_Month-to-month                                        0.330879   \n",
      "Contract_One year                                             -0.109546   \n",
      "Contract_Two year                                             -0.281147   \n",
      "PaymentMethod_Bank transfer (automatic)                       -0.377270   \n",
      "PaymentMethod_Credit card (automatic)                         -0.373978   \n",
      "PaymentMethod_Electronic check                                 1.000000   \n",
      "PaymentMethod_Mailed check                                    -0.386971   \n",
      "\n",
      "                                         PaymentMethod_Mailed check  \n",
      "gender                                                    -0.013199  \n",
      "SeniorCitizen                                             -0.152987  \n",
      "Partner                                                   -0.096948  \n",
      "Dependents                                                 0.056448  \n",
      "tenure                                                    -0.232181  \n",
      "PhoneService                                              -0.004463  \n",
      "MultipleLines                                             -0.227672  \n",
      "OnlineSecurity                                            -0.079918  \n",
      "OnlineBackup                                              -0.174075  \n",
      "DeviceProtection                                          -0.187325  \n",
      "TechSupport                                               -0.084631  \n",
      "StreamingTV                                               -0.247712  \n",
      "StreamingMovies                                           -0.250290  \n",
      "PaperlessBilling                                          -0.203981  \n",
      "MonthlyCharges                                            -0.376568  \n",
      "TotalCharges                                              -0.294708  \n",
      "Churn                                                     -0.090773  \n",
      "InternetService_DSL                                        0.042754  \n",
      "InternetService_Fiber optic                               -0.305984  \n",
      "InternetService_No                                         0.319694  \n",
      "Contract_Month-to-month                                    0.006209  \n",
      "Contract_One year                                          0.000197  \n",
      "Contract_Two year                                         -0.007423  \n",
      "PaymentMethod_Bank transfer (automatic)                   -0.288097  \n",
      "PaymentMethod_Credit card (automatic)                     -0.285583  \n",
      "PaymentMethod_Electronic check                            -0.386971  \n",
      "PaymentMethod_Mailed check                                 1.000000  \n",
      "\n",
      "[27 rows x 27 columns]\n"
     ]
    }
   ],
   "source": [
    "correlation_matrix = final_costumer_dataset.corr()\n",
    "print(correlation_matrix)"
   ]
  },
  {
   "cell_type": "code",
   "execution_count": 47,
   "metadata": {},
   "outputs": [
    {
     "name": "stdout",
     "output_type": "stream",
     "text": [
      "Epoch 1/100\n",
      "176/176 [==============================] - 3s 4ms/step - loss: 0.5021 - accuracy: 0.7420\n",
      "Epoch 2/100\n",
      "176/176 [==============================] - 1s 4ms/step - loss: 0.4299 - accuracy: 0.7916\n",
      "Epoch 3/100\n",
      "176/176 [==============================] - 1s 4ms/step - loss: 0.4205 - accuracy: 0.7970\n",
      "Epoch 4/100\n",
      "176/176 [==============================] - 1s 4ms/step - loss: 0.4178 - accuracy: 0.7998\n",
      "Epoch 5/100\n",
      "176/176 [==============================] - 1s 4ms/step - loss: 0.4150 - accuracy: 0.8021\n",
      "Epoch 6/100\n",
      "176/176 [==============================] - 1s 4ms/step - loss: 0.4132 - accuracy: 0.8062\n",
      "Epoch 7/100\n",
      "176/176 [==============================] - 1s 4ms/step - loss: 0.4116 - accuracy: 0.8055\n",
      "Epoch 8/100\n",
      "176/176 [==============================] - 1s 4ms/step - loss: 0.4113 - accuracy: 0.8055\n",
      "Epoch 9/100\n",
      "176/176 [==============================] - 1s 4ms/step - loss: 0.4099 - accuracy: 0.8069\n",
      "Epoch 10/100\n",
      "176/176 [==============================] - 1s 4ms/step - loss: 0.4092 - accuracy: 0.8080\n",
      "Epoch 11/100\n",
      "176/176 [==============================] - 1s 4ms/step - loss: 0.4085 - accuracy: 0.8057\n",
      "Epoch 12/100\n",
      "176/176 [==============================] - 1s 5ms/step - loss: 0.4071 - accuracy: 0.8082\n",
      "Epoch 13/100\n",
      "176/176 [==============================] - 1s 4ms/step - loss: 0.4074 - accuracy: 0.8078\n",
      "Epoch 14/100\n",
      "176/176 [==============================] - 1s 4ms/step - loss: 0.4062 - accuracy: 0.8103\n",
      "Epoch 15/100\n",
      "176/176 [==============================] - 1s 4ms/step - loss: 0.4057 - accuracy: 0.8080\n",
      "Epoch 16/100\n",
      "176/176 [==============================] - 1s 4ms/step - loss: 0.4053 - accuracy: 0.8068\n",
      "Epoch 17/100\n",
      "176/176 [==============================] - 1s 4ms/step - loss: 0.4047 - accuracy: 0.8103\n",
      "Epoch 18/100\n",
      "176/176 [==============================] - 1s 4ms/step - loss: 0.4044 - accuracy: 0.8110\n",
      "Epoch 19/100\n",
      "176/176 [==============================] - 1s 4ms/step - loss: 0.4041 - accuracy: 0.8107\n",
      "Epoch 20/100\n",
      "176/176 [==============================] - 1s 4ms/step - loss: 0.4035 - accuracy: 0.8096\n",
      "Epoch 21/100\n",
      "176/176 [==============================] - 1s 4ms/step - loss: 0.4022 - accuracy: 0.8133\n",
      "Epoch 22/100\n",
      "176/176 [==============================] - 1s 4ms/step - loss: 0.4023 - accuracy: 0.8121\n",
      "Epoch 23/100\n",
      "176/176 [==============================] - 1s 4ms/step - loss: 0.4020 - accuracy: 0.8130\n",
      "Epoch 24/100\n",
      "176/176 [==============================] - 1s 4ms/step - loss: 0.4014 - accuracy: 0.8121\n",
      "Epoch 25/100\n",
      "176/176 [==============================] - 1s 4ms/step - loss: 0.4009 - accuracy: 0.8107\n",
      "Epoch 26/100\n",
      "176/176 [==============================] - 1s 4ms/step - loss: 0.4004 - accuracy: 0.8126\n",
      "Epoch 27/100\n",
      "176/176 [==============================] - 1s 4ms/step - loss: 0.4006 - accuracy: 0.8114\n",
      "Epoch 28/100\n",
      "176/176 [==============================] - 1s 4ms/step - loss: 0.4006 - accuracy: 0.8144\n",
      "Epoch 29/100\n",
      "176/176 [==============================] - 1s 4ms/step - loss: 0.3997 - accuracy: 0.8116\n",
      "Epoch 30/100\n",
      "176/176 [==============================] - 1s 6ms/step - loss: 0.3996 - accuracy: 0.8135\n",
      "Epoch 31/100\n",
      "176/176 [==============================] - 1s 4ms/step - loss: 0.3996 - accuracy: 0.8094\n",
      "Epoch 32/100\n",
      "176/176 [==============================] - 1s 4ms/step - loss: 0.3989 - accuracy: 0.8144\n",
      "Epoch 33/100\n",
      "176/176 [==============================] - 1s 5ms/step - loss: 0.3983 - accuracy: 0.8158\n",
      "Epoch 34/100\n",
      "176/176 [==============================] - 1s 4ms/step - loss: 0.3981 - accuracy: 0.8132\n",
      "Epoch 35/100\n",
      "176/176 [==============================] - 1s 4ms/step - loss: 0.3972 - accuracy: 0.8155\n",
      "Epoch 36/100\n",
      "176/176 [==============================] - 1s 3ms/step - loss: 0.3977 - accuracy: 0.8135\n",
      "Epoch 37/100\n",
      "176/176 [==============================] - 1s 3ms/step - loss: 0.3973 - accuracy: 0.8140\n",
      "Epoch 38/100\n",
      "176/176 [==============================] - 1s 4ms/step - loss: 0.3970 - accuracy: 0.8160\n",
      "Epoch 39/100\n",
      "176/176 [==============================] - 1s 4ms/step - loss: 0.3960 - accuracy: 0.8160\n",
      "Epoch 40/100\n",
      "176/176 [==============================] - 0s 3ms/step - loss: 0.3963 - accuracy: 0.8140\n",
      "Epoch 41/100\n",
      "176/176 [==============================] - 0s 3ms/step - loss: 0.3952 - accuracy: 0.8187\n",
      "Epoch 42/100\n",
      "176/176 [==============================] - 0s 3ms/step - loss: 0.3952 - accuracy: 0.8158\n",
      "Epoch 43/100\n",
      "176/176 [==============================] - 1s 3ms/step - loss: 0.3956 - accuracy: 0.8149\n",
      "Epoch 44/100\n",
      "176/176 [==============================] - 1s 4ms/step - loss: 0.3948 - accuracy: 0.8155\n",
      "Epoch 45/100\n",
      "176/176 [==============================] - 0s 3ms/step - loss: 0.3947 - accuracy: 0.8153\n",
      "Epoch 46/100\n",
      "176/176 [==============================] - 0s 2ms/step - loss: 0.3941 - accuracy: 0.8133\n",
      "Epoch 47/100\n",
      "176/176 [==============================] - 0s 2ms/step - loss: 0.3943 - accuracy: 0.8130\n",
      "Epoch 48/100\n",
      "176/176 [==============================] - 0s 2ms/step - loss: 0.3937 - accuracy: 0.8162\n",
      "Epoch 49/100\n",
      "176/176 [==============================] - 0s 2ms/step - loss: 0.3936 - accuracy: 0.8148\n",
      "Epoch 50/100\n",
      "176/176 [==============================] - 0s 2ms/step - loss: 0.3935 - accuracy: 0.8156\n",
      "Epoch 51/100\n",
      "176/176 [==============================] - 0s 2ms/step - loss: 0.3928 - accuracy: 0.8148\n",
      "Epoch 52/100\n",
      "176/176 [==============================] - 0s 2ms/step - loss: 0.3923 - accuracy: 0.8156\n",
      "Epoch 53/100\n",
      "176/176 [==============================] - 0s 2ms/step - loss: 0.3919 - accuracy: 0.8155\n",
      "Epoch 54/100\n",
      "176/176 [==============================] - 0s 2ms/step - loss: 0.3918 - accuracy: 0.8148\n",
      "Epoch 55/100\n",
      "176/176 [==============================] - 0s 2ms/step - loss: 0.3922 - accuracy: 0.8162\n",
      "Epoch 56/100\n",
      "176/176 [==============================] - 0s 2ms/step - loss: 0.3921 - accuracy: 0.8172\n",
      "Epoch 57/100\n",
      "176/176 [==============================] - 1s 3ms/step - loss: 0.3912 - accuracy: 0.8164\n",
      "Epoch 58/100\n",
      "176/176 [==============================] - 0s 3ms/step - loss: 0.3913 - accuracy: 0.8140\n",
      "Epoch 59/100\n",
      "176/176 [==============================] - 0s 3ms/step - loss: 0.3907 - accuracy: 0.8160\n",
      "Epoch 60/100\n",
      "176/176 [==============================] - 1s 3ms/step - loss: 0.3904 - accuracy: 0.8180\n",
      "Epoch 61/100\n",
      "176/176 [==============================] - 1s 3ms/step - loss: 0.3906 - accuracy: 0.8164\n",
      "Epoch 62/100\n",
      "176/176 [==============================] - 1s 3ms/step - loss: 0.3905 - accuracy: 0.8167\n",
      "Epoch 63/100\n",
      "176/176 [==============================] - 1s 4ms/step - loss: 0.3904 - accuracy: 0.8121\n",
      "Epoch 64/100\n",
      "176/176 [==============================] - 1s 3ms/step - loss: 0.3895 - accuracy: 0.8167\n",
      "Epoch 65/100\n",
      "176/176 [==============================] - 0s 3ms/step - loss: 0.3896 - accuracy: 0.8171\n",
      "Epoch 66/100\n",
      "176/176 [==============================] - 1s 3ms/step - loss: 0.3892 - accuracy: 0.8180\n",
      "Epoch 67/100\n",
      "176/176 [==============================] - 1s 3ms/step - loss: 0.3893 - accuracy: 0.8178\n",
      "Epoch 68/100\n",
      "176/176 [==============================] - 1s 4ms/step - loss: 0.3887 - accuracy: 0.8165\n",
      "Epoch 69/100\n",
      "176/176 [==============================] - 1s 4ms/step - loss: 0.3891 - accuracy: 0.8167\n",
      "Epoch 70/100\n",
      "176/176 [==============================] - 1s 3ms/step - loss: 0.3889 - accuracy: 0.8140\n",
      "Epoch 71/100\n",
      "176/176 [==============================] - 1s 3ms/step - loss: 0.3885 - accuracy: 0.8137\n",
      "Epoch 72/100\n",
      "176/176 [==============================] - 1s 3ms/step - loss: 0.3879 - accuracy: 0.8162\n",
      "Epoch 73/100\n",
      "176/176 [==============================] - 1s 3ms/step - loss: 0.3877 - accuracy: 0.8181\n",
      "Epoch 74/100\n",
      "176/176 [==============================] - 1s 3ms/step - loss: 0.3880 - accuracy: 0.8174\n",
      "Epoch 75/100\n",
      "176/176 [==============================] - 1s 3ms/step - loss: 0.3876 - accuracy: 0.8160\n",
      "Epoch 76/100\n",
      "176/176 [==============================] - 1s 4ms/step - loss: 0.3871 - accuracy: 0.8180\n",
      "Epoch 77/100\n",
      "176/176 [==============================] - 1s 3ms/step - loss: 0.3869 - accuracy: 0.8197\n",
      "Epoch 78/100\n",
      "176/176 [==============================] - 1s 3ms/step - loss: 0.3869 - accuracy: 0.8192\n",
      "Epoch 79/100\n",
      "176/176 [==============================] - 1s 4ms/step - loss: 0.3865 - accuracy: 0.8190\n",
      "Epoch 80/100\n",
      "176/176 [==============================] - 1s 4ms/step - loss: 0.3868 - accuracy: 0.8167\n",
      "Epoch 81/100\n",
      "176/176 [==============================] - 1s 3ms/step - loss: 0.3863 - accuracy: 0.8196\n",
      "Epoch 82/100\n",
      "176/176 [==============================] - 1s 3ms/step - loss: 0.3865 - accuracy: 0.8156\n",
      "Epoch 83/100\n",
      "176/176 [==============================] - 0s 3ms/step - loss: 0.3855 - accuracy: 0.8219\n",
      "Epoch 84/100\n",
      "176/176 [==============================] - 0s 3ms/step - loss: 0.3867 - accuracy: 0.8204\n",
      "Epoch 85/100\n",
      "176/176 [==============================] - 0s 3ms/step - loss: 0.3858 - accuracy: 0.8196\n",
      "Epoch 86/100\n",
      "176/176 [==============================] - 1s 3ms/step - loss: 0.3860 - accuracy: 0.8192\n",
      "Epoch 87/100\n",
      "176/176 [==============================] - 0s 3ms/step - loss: 0.3866 - accuracy: 0.8176\n",
      "Epoch 88/100\n",
      "176/176 [==============================] - 1s 3ms/step - loss: 0.3855 - accuracy: 0.8176\n",
      "Epoch 89/100\n",
      "176/176 [==============================] - 0s 3ms/step - loss: 0.3858 - accuracy: 0.8178\n",
      "Epoch 90/100\n",
      "176/176 [==============================] - 1s 3ms/step - loss: 0.3845 - accuracy: 0.8176\n",
      "Epoch 91/100\n",
      "176/176 [==============================] - 1s 3ms/step - loss: 0.3856 - accuracy: 0.8181\n",
      "Epoch 92/100\n",
      "176/176 [==============================] - 1s 3ms/step - loss: 0.3856 - accuracy: 0.8169\n",
      "Epoch 93/100\n",
      "176/176 [==============================] - 1s 3ms/step - loss: 0.3845 - accuracy: 0.8169\n",
      "Epoch 94/100\n",
      "176/176 [==============================] - 1s 3ms/step - loss: 0.3842 - accuracy: 0.8176\n",
      "Epoch 95/100\n",
      "176/176 [==============================] - 1s 3ms/step - loss: 0.3847 - accuracy: 0.8178\n",
      "Epoch 96/100\n",
      "176/176 [==============================] - 0s 3ms/step - loss: 0.3846 - accuracy: 0.8178\n",
      "Epoch 97/100\n",
      "176/176 [==============================] - 0s 3ms/step - loss: 0.3843 - accuracy: 0.8185\n",
      "Epoch 98/100\n",
      "176/176 [==============================] - 1s 3ms/step - loss: 0.3834 - accuracy: 0.8188\n",
      "Epoch 99/100\n",
      "176/176 [==============================] - 1s 4ms/step - loss: 0.3836 - accuracy: 0.8194\n",
      "Epoch 100/100\n",
      "176/176 [==============================] - 0s 3ms/step - loss: 0.3835 - accuracy: 0.8176\n"
     ]
    },
    {
     "data": {
      "text/plain": [
       "<keras.src.callbacks.History at 0x7f4b7c44ebe0>"
      ]
     },
     "execution_count": 47,
     "metadata": {},
     "output_type": "execute_result"
    }
   ],
   "source": [
    "import tensorflow as tf\n",
    "from tensorflow.keras import datasets, layers, models\n",
    "\n",
    "\n",
    "# Create the CNN model\n",
    "model = models.Sequential([\n",
    "    layers.Dense(20,input_shape = (26,), activation='relu'),\n",
    "    layers.Dense(1, activation='sigmoid')\n",
    "])\n",
    "\n",
    "# Compile the model\n",
    "model.compile(optimizer='adam',\n",
    "              loss='binary_crossentropy',\n",
    "              metrics=['accuracy'])\n",
    "\n",
    "# Train the model\n",
    "X_train = X_train.astype(np.float32)\n",
    "y_train = y_train.astype(np.float32)\n",
    "model.fit(X_train, y_train, epochs=100)\n"
   ]
  },
  {
   "cell_type": "code",
   "execution_count": 49,
   "metadata": {},
   "outputs": [
    {
     "name": "stdout",
     "output_type": "stream",
     "text": [
      "44/44 [==============================] - 0s 3ms/step - loss: 0.4454 - accuracy: 0.7982\n"
     ]
    },
    {
     "data": {
      "text/plain": [
       "[0.44541135430336, 0.7981520891189575]"
      ]
     },
     "execution_count": 49,
     "metadata": {},
     "output_type": "execute_result"
    }
   ],
   "source": [
    "X_test = X_test.astype(np.float32)\n",
    "y_test = y_test.astype(np.float32)\n",
    "model.evaluate(X_test, y_test)"
   ]
  },
  {
   "cell_type": "code",
   "execution_count": 51,
   "metadata": {},
   "outputs": [
    {
     "name": "stdout",
     "output_type": "stream",
     "text": [
      "44/44 [==============================] - 0s 3ms/step\n"
     ]
    },
    {
     "data": {
      "text/plain": [
       "array([[0.27131894],\n",
       "       [0.46052215],\n",
       "       [0.02690831],\n",
       "       [0.8020707 ],\n",
       "       [0.54480416]], dtype=float32)"
      ]
     },
     "execution_count": 51,
     "metadata": {},
     "output_type": "execute_result"
    }
   ],
   "source": [
    "yp = model.predict(X_test)\n",
    "yp[:5]"
   ]
  },
  {
   "cell_type": "code",
   "execution_count": 52,
   "metadata": {},
   "outputs": [],
   "source": [
    "pred_y = []\n",
    "for element in yp:\n",
    "    if element > .5:\n",
    "        pred_y.append(1)\n",
    "    else:\n",
    "        pred_y.append(0)\n",
    "        "
   ]
  },
  {
   "cell_type": "code",
   "execution_count": 55,
   "metadata": {},
   "outputs": [
    {
     "name": "stdout",
     "output_type": "stream",
     "text": [
      "              precision    recall  f1-score   support\n",
      "\n",
      "         0.0       0.83      0.89      0.86       999\n",
      "         1.0       0.68      0.57      0.62       408\n",
      "\n",
      "    accuracy                           0.80      1407\n",
      "   macro avg       0.76      0.73      0.74      1407\n",
      "weighted avg       0.79      0.80      0.79      1407\n",
      "\n"
     ]
    }
   ],
   "source": [
    "from sklearn.metrics import confusion_matrix, classification_report\n",
    "\n",
    "print(classification_report(y_test, pred_y))"
   ]
  },
  {
   "cell_type": "code",
   "execution_count": 54,
   "metadata": {},
   "outputs": [
    {
     "data": {
      "text/plain": [
       "Text(50.722222222222214, 0.5, 'Truth')"
      ]
     },
     "execution_count": 54,
     "metadata": {},
     "output_type": "execute_result"
    },
    {
     "data": {
      "image/png": "[encoded data removed]",
      "text/plain": [
       "<Figure size 640x480 with 2 Axes>"
      ]
     },
     "metadata": {},
     "output_type": "display_data"
    }
   ],
   "source": [
    "import seaborn as sn\n",
    "cm = tf.math.confusion_matrix(labels=y_test, predictions=pred_y)\n",
    "\n",
    "plt.Figure(figsize=(10,7))\n",
    "sn.heatmap(cm, annot=True, fmt='d')\n",
    "plt.xlabel('predicted')\n",
    "plt.ylabel('Truth')"
   ]
  },
  {
   "cell_type": "code",
   "execution_count": null,
   "metadata": {},
   "outputs": [],
   "source": []
  },
  {
   "cell_type": "code",
   "execution_count": null,
   "metadata": {},
   "outputs": [],
   "source": []
  }
 ],
 "metadata": {
  "kernelspec": {
   "display_name": "Python 3.9.7 ('costumer_env': venv)",
   "language": "python",
   "name": "python3"
  },
  "language_info": {
   "codemirror_mode": {
    "name": "ipython",
    "version": 3
   },
   "file_extension": ".py",
   "mimetype": "text/x-python",
   "name": "python",
   "nbconvert_exporter": "python",
   "pygments_lexer": "ipython3",
   "version": "3.9.7"
  },
  "orig_nbformat": 4,
  "vscode": {
   "interpreter": {
    "hash": "d41dbb64320e2e2c8816e56d24ae52f988f58788df4fc1ef2388c340697afa44"
   }
  }
 },
 "nbformat": 4,
 "nbformat_minor": 2
}
